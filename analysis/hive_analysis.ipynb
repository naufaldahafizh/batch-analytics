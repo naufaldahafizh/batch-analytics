{
 "cells": [
  {
   "cell_type": "markdown",
   "id": "a9a117c6",
   "metadata": {},
   "source": [
    "# Analisis dengan Hive"
   ]
  },
  {
   "cell_type": "markdown",
   "id": "9fdc55c4",
   "metadata": {},
   "source": [
    "## Query 1: Daftar 10 IP Terbanyak"
   ]
  },
  {
   "cell_type": "markdown",
   "id": "0e644aee",
   "metadata": {},
   "source": [
    "Perintah: \n",
    "\n",
    "SELECT ip, COUNT(*) AS hits\n",
    "FROM logs_parsed\n",
    "GROUP BY ip\n",
    "ORDER BY hits DESC\n",
    "LIMIT 10;"
   ]
  },
  {
   "cell_type": "markdown",
   "id": "87cb5da0",
   "metadata": {},
   "source": [
    "Hasil: \n",
    "\n",
    "66.249.66.194   353483\n",
    "66.249.66.91    314522\n",
    "151.239.241.163 92473\n",
    "66.249.66.92    88332\n",
    "91.99.30.32     45973\n",
    "104.222.32.91   42058\n",
    "91.99.72.15     38694\n",
    "91.99.47.57     38609\n",
    "5.78.190.233    37203\n",
    "195.181.168.181 27979\n",
    "\n",
    "Time taken: 85.528 seconds, Fetched: 10 row(s)"
   ]
  },
  {
   "cell_type": "markdown",
   "id": "1d618a8a",
   "metadata": {},
   "source": [
    "## Query 2: Daftar Status Code"
   ]
  },
  {
   "cell_type": "markdown",
   "id": "a8be7fcd",
   "metadata": {
    "vscode": {
     "languageId": "sql"
    }
   },
   "source": [
    "Perintah: \n",
    "\n",
    "SELECT status, COUNT(*) AS count\n",
    "FROM logs_parsed\n",
    "GROUP BY status\n",
    "ORDER BY count DESC;"
   ]
  },
  {
   "cell_type": "markdown",
   "id": "5f9ea771",
   "metadata": {},
   "source": [
    "Hasil: \n",
    "\n",
    "200     9579824\n",
    "304     340228\n",
    "302     199835\n",
    "404     105011\n",
    "301     67553\n",
    "499     50852\n",
    "500     14266\n",
    "403     5634\n",
    "502     798\n",
    "400     527\n",
    "401     323\n",
    "408     112\n",
    "504     103\n",
    "NULL    77\n",
    "405     6\n",
    "206     3\n",
    "\n",
    "Time taken: 89.357 seconds, Fetched: 16 row(s)"
   ]
  },
  {
   "cell_type": "markdown",
   "id": "f60ff549",
   "metadata": {},
   "source": [
    "## Query 3: Daftar 10 Endpoint Terbanyak"
   ]
  },
  {
   "cell_type": "markdown",
   "id": "ad00abd2",
   "metadata": {},
   "source": [
    "Perintah: \n",
    "\n",
    "SELECT endpoint, COUNT(*) AS views\n",
    "FROM logs_parsed\n",
    "GROUP BY endpoint\n",
    "ORDER BY views DESC\n",
    "LIMIT 10;"
   ]
  },
  {
   "cell_type": "markdown",
   "id": "c8b58ba4",
   "metadata": {},
   "source": [
    "Hasil: \n",
    "\n",
    "/settings/logo  352047\n",
    "/static/css/font/wyekan/font.woff       280176\n",
    "/static/images/guarantees/bestPrice.png 138010\n",
    "/static/images/guarantees/fastDelivery.png      125689\n",
    "/static/images/guarantees/warranty.png  124127\n",
    "/static/images/guarantees/goodShopping.png      116653\n",
    "/site/alexaGooleAnalitic        103798\n",
    "/favicon.ico    102731\n",
    "/static/images/guarantees/support.png   98460\n",
    "/static/images/amp/telegram.png 92409\n",
    "\n",
    "Time taken: 115.421 seconds, Fetched: 10 row(s)"
   ]
  }
 ],
 "metadata": {
  "language_info": {
   "name": "python"
  }
 },
 "nbformat": 4,
 "nbformat_minor": 5
}
