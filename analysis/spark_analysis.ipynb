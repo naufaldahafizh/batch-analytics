{
 "cells": [
  {
   "cell_type": "code",
   "execution_count": 2,
   "id": "ee284b6a-63ca-4993-a210-56e848fba221",
   "metadata": {},
   "outputs": [
    {
     "name": "stdout",
     "output_type": "stream",
     "text": [
      "2.4.0\n"
     ]
    }
   ],
   "source": [
    "import pyspark\n",
    "print(pyspark.__version__)"
   ]
  },
  {
   "cell_type": "code",
   "execution_count": 3,
   "id": "93349e46-0308-453d-904a-eeaf1adea135",
   "metadata": {},
   "outputs": [
    {
     "name": "stderr",
     "output_type": "stream",
     "text": [
      "Warning: Ignoring non-spark config property: hive.metastore.uris=thrift://hive-metastore:9083\n"
     ]
    },
    {
     "name": "stdout",
     "output_type": "stream",
     "text": [
      "2025-06-19 06:24:43 WARN  NativeCodeLoader:62 - Unable to load native-hadoop library for your platform... using builtin-java classes where applicable\n"
     ]
    },
    {
     "name": "stderr",
     "output_type": "stream",
     "text": [
      "Setting default log level to \"WARN\".\n",
      "To adjust logging level use sc.setLogLevel(newLevel). For SparkR, use setLogLevel(newLevel).\n"
     ]
    }
   ],
   "source": [
    "from pyspark.sql import SparkSession\n",
    "\n",
    "# Buat SparkSession dengan Hive support\n",
    "spark = SparkSession.builder \\\n",
    "    .appName(\"LogAnalysis\") \\\n",
    "    .master(\"spark://spark-master:7077\") \\\n",
    "    .config(\"spark.sql.catalogImplementation\", \"hive\") \\\n",
    "    .config(\"hive.metastore.uris\", \"thrift://hive-metastore:9083\") \\\n",
    "    .enableHiveSupport() \\\n",
    "    .getOrCreate()"
   ]
  },
  {
   "cell_type": "code",
   "execution_count": 4,
   "id": "06c9ee97-49ac-427d-a874-41487b55d7bc",
   "metadata": {},
   "outputs": [
    {
     "name": "stdout",
     "output_type": "stream",
     "text": [
      "+------------+\n",
      "|databaseName|\n",
      "+------------+\n",
      "|     default|\n",
      "+------------+\n",
      "\n",
      "+--------+-----------+-----------+\n",
      "|database|  tableName|isTemporary|\n",
      "+--------+-----------+-----------+\n",
      "| default|logs_parsed|      false|\n",
      "| default|   logs_raw|      false|\n",
      "+--------+-----------+-----------+\n",
      "\n"
     ]
    }
   ],
   "source": [
    "spark.sql(\"SHOW DATABASES\").show()\n",
    "spark.sql(\"SHOW TABLES\").show()"
   ]
  },
  {
   "cell_type": "code",
   "execution_count": 5,
   "id": "7c233d44-fb6e-49ad-a2a1-341c00289acd",
   "metadata": {},
   "outputs": [],
   "source": [
    "# Baca tabel logs_parsed\n",
    "logs = spark.table(\"logs_parsed\")\n",
    "logs.createOrReplaceTempView(\"logs\")"
   ]
  },
  {
   "cell_type": "code",
   "execution_count": 9,
   "id": "e82254f3-363e-4c29-b0a6-667d770301ce",
   "metadata": {},
   "outputs": [
    {
     "name": "stdout",
     "output_type": "stream",
     "text": [
      "+-------------+--------+----+--------------------+------+--------------------+--------+------+-----+--------------------+--------------------+\n",
      "|           ip|identity|user|           timestamp|method|            endpoint|protocol|status| size|             referer|          user_agent|\n",
      "+-------------+--------+----+--------------------+------+--------------------+--------+------+-----+--------------------+--------------------+\n",
      "| 54.36.149.41|       -|   -|22/Jan/2019:03:56...|   GET|/filter/27|13%20%...|HTTP/1.1|   200|30577|                   -|Mozilla/5.0 (comp...|\n",
      "|  31.56.96.51|       -|   -|22/Jan/2019:03:56...|   GET|/image/60844/prod...|HTTP/1.1|   200| 5667|https://www.zanbi...|Mozilla/5.0 (Linu...|\n",
      "|  31.56.96.51|       -|   -|22/Jan/2019:03:56...|   GET|/image/61474/prod...|HTTP/1.1|   200| 5379|https://www.zanbi...|Mozilla/5.0 (Linu...|\n",
      "|40.77.167.129|       -|   -|22/Jan/2019:03:56...|   GET|/image/14925/prod...|HTTP/1.1|   200| 1696|                   -|Mozilla/5.0 (comp...|\n",
      "|  91.99.72.15|       -|   -|22/Jan/2019:03:56...|   GET|/product/31893/62...|HTTP/1.1|   200|41483|                   -|Mozilla/5.0 (Wind...|\n",
      "|40.77.167.129|       -|   -|22/Jan/2019:03:56...|   GET|/image/23488/prod...|HTTP/1.1|   200| 2654|                   -|Mozilla/5.0 (comp...|\n",
      "|40.77.167.129|       -|   -|22/Jan/2019:03:56...|   GET|/image/45437/prod...|HTTP/1.1|   200| 3688|                   -|Mozilla/5.0 (comp...|\n",
      "|40.77.167.129|       -|   -|22/Jan/2019:03:56...|   GET|/image/576/articl...|HTTP/1.1|   200|14776|                   -|Mozilla/5.0 (comp...|\n",
      "|66.249.66.194|       -|   -|22/Jan/2019:03:56...|   GET|/filter/b41,b665,...|HTTP/1.1|   200|34277|                   -|Mozilla/5.0 (comp...|\n",
      "|40.77.167.129|       -|   -|22/Jan/2019:03:56...|   GET|/image/57710/prod...|HTTP/1.1|   200| 1695|                   -|Mozilla/5.0 (comp...|\n",
      "+-------------+--------+----+--------------------+------+--------------------+--------+------+-----+--------------------+--------------------+\n",
      "\n"
     ]
    }
   ],
   "source": [
    "spark.sql(\"\"\"\n",
    "  SELECT *\n",
    "  FROM logs\n",
    "  LIMIT 10\n",
    "\"\"\").show()"
   ]
  },
  {
   "cell_type": "code",
   "execution_count": 10,
   "id": "fde05ea7-7d87-4615-a5c4-af286e08d98a",
   "metadata": {},
   "outputs": [
    {
     "name": "stderr",
     "output_type": "stream",
     "text": [
      "[Stage 5:==============================>                       (114 + 16) / 200]"
     ]
    },
    {
     "name": "stdout",
     "output_type": "stream",
     "text": [
      "+----+--------------+------+\n",
      "|hour|total_requests|errors|\n",
      "+----+--------------+------+\n",
      "|null|            77|     0|\n",
      "|   0|         75720|  1781|\n",
      "|   1|         73026|  1542|\n",
      "|   2|         74082|  1780|\n",
      "|   3|        125561|  2309|\n",
      "|   4|        282566|  3975|\n",
      "|   5|        473158|  6206|\n",
      "|   6|        627241|  8907|\n",
      "|   7|        707421|  9653|\n",
      "|   8|        729521| 10664|\n",
      "|   9|        728069| 11142|\n",
      "|  10|        714430| 10557|\n",
      "|  11|        671298| 11651|\n",
      "|  12|        606140| 10802|\n",
      "|  13|        564234|  9477|\n",
      "|  14|        545806| 10731|\n",
      "|  15|        573689| 16382|\n",
      "|  16|        556140| 10868|\n",
      "|  17|        395114|  6878|\n",
      "|  18|        455347|  7408|\n",
      "+----+--------------+------+\n",
      "only showing top 20 rows\n",
      "\n"
     ]
    },
    {
     "name": "stderr",
     "output_type": "stream",
     "text": [
      "                                                                                \r"
     ]
    }
   ],
   "source": [
    "# Contoh Analisis: Frekuensi Akses Tiap Jam\n",
    "from pyspark.sql.functions import hour, to_timestamp\n",
    "\n",
    "# Ubah timestamp string ke TimestampType kemudian ekstrak jam\n",
    "df_time = logs.withColumn(\"parsed_ts\", to_timestamp(\"timestamp\", \"dd/MMM/yyyy:HH:mm:ss Z\")) \\\n",
    "              .withColumn(\"hour\", hour(\"parsed_ts\"))\n",
    "df_time.createOrReplaceTempView(\"logs_with_hour\")\n",
    "\n",
    "spark.sql(\"\"\"\n",
    "SELECT hour, \n",
    "       COUNT(*) AS total_requests,\n",
    "       SUM(CASE WHEN status >= 400 THEN 1 ELSE 0 END) AS errors\n",
    "FROM logs_with_hour\n",
    "GROUP BY hour\n",
    "ORDER BY hour\n",
    "\"\"\").show()"
   ]
  },
  {
   "cell_type": "code",
   "execution_count": 11,
   "id": "eacc0d92-7628-4da0-99e9-7e5dfe80bb2d",
   "metadata": {},
   "outputs": [
    {
     "name": "stderr",
     "output_type": "stream",
     "text": [
      "[Stage 7:==================================================>   (186 + 13) / 200]"
     ]
    },
    {
     "name": "stdout",
     "output_type": "stream",
     "text": [
      "+--------------------+------+\n",
      "|          user_agent|  hits|\n",
      "+--------------------+------+\n",
      "|Mozilla/5.0 (Wind...|746557|\n",
      "|Mozilla/5.0 (Wind...|702494|\n",
      "|Mozilla/5.0 (Wind...|636882|\n",
      "|Mozilla/5.0 (Wind...|552139|\n",
      "|Mozilla/5.0 (Wind...|454960|\n",
      "|Mozilla/5.0 (Linu...|450555|\n",
      "|Mozilla/5.0 (Wind...|340969|\n",
      "|Mozilla/5.0 (comp...|197769|\n",
      "|Mozilla/5.0 (comp...|191450|\n",
      "|Mozilla/5.0 (iPho...|180000|\n",
      "+--------------------+------+\n",
      "\n"
     ]
    },
    {
     "name": "stderr",
     "output_type": "stream",
     "text": [
      "                                                                                \r"
     ]
    }
   ],
   "source": [
    "# Contoh Analisis: Top User Agent\n",
    "spark.sql(\"\"\"\n",
    "  SELECT user_agent, COUNT(*) AS hits\n",
    "  FROM logs\n",
    "  GROUP BY user_agent\n",
    "  ORDER BY hits DESC\n",
    "  LIMIT 10\n",
    "\"\"\").show()"
   ]
  },
  {
   "cell_type": "code",
   "execution_count": 12,
   "id": "abae8a6a-de98-4150-a217-c8c190837309",
   "metadata": {},
   "outputs": [
    {
     "name": "stderr",
     "output_type": "stream",
     "text": [
      "[Stage 10:======================================>              (146 + 12) / 200]"
     ]
    },
    {
     "name": "stdout",
     "output_type": "stream",
     "text": [
      "+---------------+------+\n",
      "|             ip|  hits|\n",
      "+---------------+------+\n",
      "|  66.249.66.194|353483|\n",
      "|   66.249.66.91|314522|\n",
      "|151.239.241.163| 92473|\n",
      "|   66.249.66.92| 88332|\n",
      "|    91.99.30.32| 45973|\n",
      "|  104.222.32.91| 42058|\n",
      "|    91.99.72.15| 38694|\n",
      "|    91.99.47.57| 38609|\n",
      "|   5.78.190.233| 37203|\n",
      "|195.181.168.181| 27979|\n",
      "+---------------+------+\n",
      "\n",
      "Query 1 execution time: 24.91 seconds\n"
     ]
    },
    {
     "name": "stderr",
     "output_type": "stream",
     "text": [
      "                                                                                \r"
     ]
    }
   ],
   "source": [
    "import time\n",
    "\n",
    "start_time = time.time()\n",
    "\n",
    "# Perbandingan dengan Hive: Query 1\n",
    "spark.sql(\"\"\"\n",
    "SELECT ip, COUNT(*) AS hits\n",
    "FROM logs_parsed\n",
    "GROUP BY ip\n",
    "ORDER BY hits DESC\n",
    "LIMIT 10\n",
    "\"\"\").show()\n",
    "\n",
    "end_time = time.time()\n",
    "\n",
    "print(f\"Query 1 execution time: {end_time - start_time:.2f} seconds\")"
   ]
  },
  {
   "cell_type": "code",
   "execution_count": 13,
   "id": "554ca1e7-1c45-447d-818b-0d46c607042e",
   "metadata": {},
   "outputs": [
    {
     "name": "stderr",
     "output_type": "stream",
     "text": [
      "[Stage 12:=====================================================>  (25 + 1) / 26]"
     ]
    },
    {
     "name": "stdout",
     "output_type": "stream",
     "text": [
      "+------+-------+\n",
      "|status|  count|\n",
      "+------+-------+\n",
      "|   200|9579824|\n",
      "|   304| 340228|\n",
      "|   302| 199835|\n",
      "|   404| 105011|\n",
      "|   301|  67553|\n",
      "|   499|  50852|\n",
      "|   500|  14266|\n",
      "|   403|   5634|\n",
      "|   502|    798|\n",
      "|   400|    527|\n",
      "|   401|    323|\n",
      "|   408|    112|\n",
      "|   504|    103|\n",
      "|  null|     77|\n",
      "|   405|      6|\n",
      "|   206|      3|\n",
      "+------+-------+\n",
      "\n",
      "Query 2 execution time: 22.95 seconds\n"
     ]
    },
    {
     "name": "stderr",
     "output_type": "stream",
     "text": [
      "                                                                                \r"
     ]
    }
   ],
   "source": [
    "start_time = time.time()\n",
    "\n",
    "# Perbandingan dengan Hive: Query 2\n",
    "spark.sql(\"\"\"\n",
    "SELECT status, COUNT(*) AS count\n",
    "FROM logs_parsed\n",
    "GROUP BY status\n",
    "ORDER BY count DESC\n",
    "\"\"\").show()\n",
    "\n",
    "end_time = time.time()\n",
    "\n",
    "print(f\"Query 2 execution time: {end_time - start_time:.2f} seconds\")"
   ]
  },
  {
   "cell_type": "code",
   "execution_count": 14,
   "id": "b0ac5531-c037-43c7-89cc-d221887e67a8",
   "metadata": {},
   "outputs": [
    {
     "name": "stderr",
     "output_type": "stream",
     "text": [
      "[Stage 15:=================================================>   (187 + 12) / 200]"
     ]
    },
    {
     "name": "stdout",
     "output_type": "stream",
     "text": [
      "+--------------------+------+\n",
      "|            endpoint| views|\n",
      "+--------------------+------+\n",
      "|      /settings/logo|352047|\n",
      "|/static/css/font/...|280176|\n",
      "|/static/images/gu...|138010|\n",
      "|/static/images/gu...|125689|\n",
      "|/static/images/gu...|124127|\n",
      "|/static/images/gu...|116653|\n",
      "|/site/alexaGooleA...|103798|\n",
      "|        /favicon.ico|102731|\n",
      "|/static/images/gu...| 98460|\n",
      "|/static/images/am...| 92409|\n",
      "+--------------------+------+\n",
      "\n",
      "Query 3 execution time: 28.00 seconds\n"
     ]
    },
    {
     "name": "stderr",
     "output_type": "stream",
     "text": [
      "                                                                                \r"
     ]
    }
   ],
   "source": [
    "start_time = time.time()\n",
    "\n",
    "# Perbandingan dengan Hive: Query 3\n",
    "spark.sql(\"\"\"\n",
    "SELECT endpoint, COUNT(*) AS views\n",
    "FROM logs_parsed\n",
    "GROUP BY endpoint\n",
    "ORDER BY views DESC\n",
    "LIMIT 10\n",
    "\"\"\").show()\n",
    "\n",
    "end_time = time.time()\n",
    "\n",
    "print(f\"Query 3 execution time: {end_time - start_time:.2f} seconds\")"
   ]
  },
  {
   "cell_type": "code",
   "execution_count": 18,
   "id": "f6b8c935-332b-4929-ba18-cf37a8dc3727",
   "metadata": {},
   "outputs": [
    {
     "name": "stderr",
     "output_type": "stream",
     "text": [
      "                                                                                \r"
     ]
    },
    {
     "data": {
      "image/png": "[encoded data removed]",
      "text/plain": [
       "<Figure size 2000x500 with 1 Axes>"
      ]
     },
     "metadata": {},
     "output_type": "display_data"
    }
   ],
   "source": [
    "# Konversi ke Pandas untuk plotting\n",
    "pdf = spark.sql(\"\"\"\n",
    "  SELECT status, COUNT(*) AS count\n",
    "  FROM logs\n",
    "  GROUP BY status\n",
    "\"\"\").toPandas()\n",
    "\n",
    "import seaborn as sns\n",
    "import matplotlib.pyplot as plt\n",
    "\n",
    "plt.figure(figsize=(20,5))\n",
    "sns.barplot(x='status', y='count', data=pdf)\n",
    "plt.title(\"Status Code Distribution\")\n",
    "plt.show()"
   ]
  },
  {
   "cell_type": "code",
   "execution_count": null,
   "id": "9eb7362d-eec1-4662-afa4-3be2afd99ec4",
   "metadata": {},
   "outputs": [],
   "source": []
  }
 ],
 "metadata": {
  "kernelspec": {
   "display_name": "Python 3 (ipykernel)",
   "language": "python",
   "name": "python3"
  },
  "language_info": {
   "codemirror_mode": {
    "name": "ipython",
    "version": 3
   },
   "file_extension": ".py",
   "mimetype": "text/x-python",
   "name": "python",
   "nbconvert_exporter": "python",
   "pygments_lexer": "ipython3",
   "version": "3.7.12"
  }
 },
 "nbformat": 4,
 "nbformat_minor": 5
}
